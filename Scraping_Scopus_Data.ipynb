{
 "cells": [
  {
   "cell_type": "code",
   "execution_count": 42,
   "id": "adf9018b-b0f2-40b0-b9e4-7c17ba68a255",
   "metadata": {},
   "outputs": [
    {
     "name": "stdout",
     "output_type": "stream",
     "text": [
      "Requirement already satisfied: elsapy in c:\\users\\lamaachi\\anaconda3\\lib\\site-packages (0.5.1)\n",
      "Requirement already satisfied: requests in c:\\users\\lamaachi\\anaconda3\\lib\\site-packages (from elsapy) (2.31.0)\n",
      "Requirement already satisfied: charset-normalizer<4,>=2 in c:\\users\\lamaachi\\anaconda3\\lib\\site-packages (from requests->elsapy) (2.0.4)\n",
      "Requirement already satisfied: idna<4,>=2.5 in c:\\users\\lamaachi\\anaconda3\\lib\\site-packages (from requests->elsapy) (3.4)\n",
      "Requirement already satisfied: urllib3<3,>=1.21.1 in c:\\users\\lamaachi\\anaconda3\\lib\\site-packages (from requests->elsapy) (2.0.7)\n",
      "Requirement already satisfied: certifi>=2017.4.17 in c:\\users\\lamaachi\\anaconda3\\lib\\site-packages (from requests->elsapy) (2024.2.2)\n"
     ]
    }
   ],
   "source": [
    "!pip install elsapy"
   ]
  },
  {
   "cell_type": "code",
   "execution_count": 31,
   "id": "342911a3-29aa-4ecd-a42d-503caf212007",
   "metadata": {},
   "outputs": [],
   "source": [
    "from elsapy.elsclient import ElsClient\n",
    "from elsapy.elssearch import ElsSearch\n",
    "from elsapy.elsprofile import ElsAuthor\n",
    "from elsapy.elsdoc import FullDoc\n",
    "from elsapy.elsdoc import AbsDoc\n",
    "import json\n",
    "import pandas as pd"
   ]
  },
  {
   "cell_type": "code",
   "execution_count": null,
   "id": "a04cc4af-6c6d-466f-bfc4-d7ef8f9178f7",
   "metadata": {},
   "outputs": [],
   "source": []
  },
  {
   "cell_type": "code",
   "execution_count": 32,
   "id": "d3272b1a-0cff-4842-8411-2cc31ffb6970",
   "metadata": {},
   "outputs": [],
   "source": [
    "# Initialize the Scopus client\n",
    "client = ElsClient(api_key=\"737506d5b1185510c2c6a0f9f31f983f\")  # Replace 'your_api_key_here' with your actual API key"
   ]
  },
  {
   "cell_type": "code",
   "execution_count": 33,
   "id": "121160ae-03a9-44c6-acb4-6d0524705e8a",
   "metadata": {},
   "outputs": [],
   "source": [
    "# Define the search query\n",
    "search_query = ElsSearch(query='TITLE-ABS-KEY(\"Covid-19\")', index='scopus')"
   ]
  },
  {
   "cell_type": "code",
   "execution_count": 15,
   "id": "c8ab89de-18db-4354-9806-feb22b55e6cd",
   "metadata": {},
   "outputs": [
    {
     "name": "stdout",
     "output_type": "stream",
     "text": [
      "None\n"
     ]
    }
   ],
   "source": [
    "# Execute the search\n",
    "res = search_query.execute(client)"
   ]
  },
  {
   "cell_type": "code",
   "execution_count": 17,
   "id": "d7fe0700-a527-4ea3-b7b4-7ef57a17ee3d",
   "metadata": {},
   "outputs": [],
   "source": [
    "# Function to perform a search and handle pagination\n",
    "def fetch_all_results(client, query, max_results=25):\n",
    "    all_results = []\n",
    "    start = 0\n",
    "    count = 100  # Number of results per page (Scopus API default limit)\n",
    "    \n",
    "    while start < max_results:\n",
    "        search_query = ElsSearch(query=query, index='scopus')\n",
    "        search_query.execute(client, count=count)\n",
    "\n",
    "        if not search_query.results:\n",
    "            break\n",
    "\n",
    "        all_results.extend(search_query.results)\n",
    "        start += count\n",
    "\n",
    "        # Check if the last batch of results is less than the count, meaning we've reached the end\n",
    "        if len(search_query.results) < count:\n",
    "            break\n",
    "\n",
    "    return all_results\n"
   ]
  },
  {
   "cell_type": "code",
   "execution_count": 34,
   "id": "d7c87751-ee2b-45b1-9f15-c0a525f44217",
   "metadata": {},
   "outputs": [],
   "source": [
    "# List of topics to search for\n",
    "topics = [\n",
    "    # 'artificial intelligence',\n",
    "    # 'machine learning',\n",
    "    # 'data science',\n",
    "    # 'natural language processing',\n",
    "    # 'computer vision',\n",
    "    # 'big data',\n",
    "    # 'cloud computing',\n",
    "    # 'cybersecurity',\n",
    "    # 'blockchain',\n",
    "    # 'internet of things',\n",
    "    # 'quantum computing',\n",
    "    # 'robotics',\n",
    "    # 'bioinformatics',\n",
    "    # 'genomics',\n",
    "    # 'renewable energy',\n",
    "    # 'nanotechnology',\n",
    "    # 'biotechnology',\n",
    "    # 'autonomous vehicles',\n",
    "    # 'augmented reality',\n",
    "    'virtual reality'\n",
    "]"
   ]
  },
  {
   "cell_type": "code",
   "execution_count": 35,
   "id": "527600d4-fd1c-42f7-a042-6e37daf6bccd",
   "metadata": {},
   "outputs": [],
   "source": [
    "# Initialize a list to store the publication data\n",
    "publications = []"
   ]
  },
  {
   "cell_type": "code",
   "execution_count": 39,
   "id": "65709278-796e-48bf-9106-11afe1dd6aec",
   "metadata": {},
   "outputs": [],
   "source": [
    "# Fetch results for each topic\n",
    "for topic in topics:\n",
    "    query = f'TITLE-ABS-KEY(\"{topic}\") AND PUBYEAR AFT 2023'\n",
    "    results = fetch_all_results(client, query)\n",
    "    \n",
    "    if results:\n",
    "        for entry in results:\n",
    "            title = entry.get('dc:title', 'No title available')\n",
    "            authors = entry.get('dc:creator', 'No authors available')\n",
    "            publication = entry.get('prism:publicationName', 'No publication name available')\n",
    "            date = entry.get('prism:coverDate', 'No date available')\n",
    "            citations = entry.get('citedby-count', 'No citations available')\n",
    "            volume = entry.get('prism:volume', 'No volume available')\n",
    "            issue = entry.get('prism:issueIdentifier', 'No issue available')\n",
    "            pages = entry.get('prism:pageRange', 'No pages available')\n",
    "            doi = entry.get('prism:doi', 'No DOI available')\n",
    "            abstract = entry.get('dc:description', 'No abstract available')\n",
    "\n",
    "            # Append the publication data to the list\n",
    "            publications.append({\n",
    "                'Topic': topic,\n",
    "                    'Title': title,\n",
    "                    'Authors': authors,\n",
    "                    'Publication': publication,\n",
    "                    'Date': date,\n",
    "                    'Citations': citations,\n",
    "                    'Volume': volume,\n",
    "                    'Issue': issue,\n",
    "                    'Pages': pages,\n",
    "                    'DOI': doi,\n",
    "                    'Abstract': abstract\n",
    "            })"
   ]
  },
  {
   "cell_type": "code",
   "execution_count": 40,
   "id": "f3288171-ed2c-4585-a2b1-f47a869bb6e8",
   "metadata": {},
   "outputs": [],
   "source": [
    "# Create a DataFrame from the publications list\n",
    "df = pd.DataFrame(publications)"
   ]
  },
  {
   "cell_type": "code",
   "execution_count": 41,
   "id": "dd926f1a-6e38-4cc0-9869-864275abf041",
   "metadata": {},
   "outputs": [
    {
     "name": "stdout",
     "output_type": "stream",
     "text": [
      "Results saved to data/scopus_publications_virtual reality_2024-06-20_13-31-27.csv\n"
     ]
    }
   ],
   "source": [
    "# Save the DataFrame to a CSV file\n",
    "\n",
    "from datetime import datetime\n",
    "current_time = datetime.now().strftime('%Y-%m-%d_%H-%M-%S')\n",
    "\n",
    "# Define the filename with the current date and time\n",
    "filename = f'data/scopus_publications_virtual reality_{current_time}.csv'\n",
    "\n",
    "# Save the DataFrame to a CSV file with the new filename\n",
    "df.to_csv(filename, index=False)\n",
    "\n",
    "# Print the filename to confirm where the data has been saved\n",
    "print(f\"Results saved to {filename}\")"
   ]
  }
 ],
 "metadata": {
  "kernelspec": {
   "display_name": "Python 3 (ipykernel)",
   "language": "python",
   "name": "python3"
  },
  "language_info": {
   "codemirror_mode": {
    "name": "ipython",
    "version": 3
   },
   "file_extension": ".py",
   "mimetype": "text/x-python",
   "name": "python",
   "nbconvert_exporter": "python",
   "pygments_lexer": "ipython3",
   "version": "3.11.7"
  }
 },
 "nbformat": 4,
 "nbformat_minor": 5
}
